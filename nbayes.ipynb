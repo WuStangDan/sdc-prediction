{
 "cells": [
  {
   "cell_type": "markdown",
   "metadata": {},
   "source": [
    "<div style=\"text-align: right\">  Daniel Stang </div>\n",
    "\n",
    "# Naive Bayes \n",
    "\n",
    "#### Udacity Term 3 - Prediciton Lesson\n",
    "<br>\n",
    "\n",
    "This is not a full project but rather an assignment which practices all the concepts taught in the prediction lessons."
   ]
  },
  {
   "cell_type": "code",
   "execution_count": 1,
   "metadata": {
    "collapsed": true
   },
   "outputs": [],
   "source": [
    "from sklearn.naive_bayes import GaussianNB"
   ]
  },
  {
   "cell_type": "code",
   "execution_count": 76,
   "metadata": {},
   "outputs": [],
   "source": [
    "# CLassifier\n",
    "\n",
    "# Basic Gaussian Naive Bayes with no manipulation of input data.\n",
    "class GNB_basic(object):\n",
    "\n",
    "    def __init__(self):\n",
    "        self.possible_labels = ['left', 'keep', 'right']\n",
    "        self.gauss_nb = GaussianNB()\n",
    "\n",
    "    def train(self, data, labels):\n",
    "        self.gauss_nb.fit(data, labels)\n",
    "        \"\"\"\n",
    "        Trains the classifier with N data points and labels.\n",
    "\n",
    "        INPUTS\n",
    "        Each observation is a tuple with 4 values: s, d, \n",
    "        s_dot and d_dot.\n",
    "        Example : [3.5, 0.1, 5.9, -0.02],\n",
    "        \n",
    "        labels - array of N labels\n",
    "        - Each label is one of \"left\", \"keep\", or \"right\".\n",
    "        \"\"\"\n",
    "\n",
    "    def predict(self, observation):\n",
    "        \"\"\"\n",
    "        INPUTS\n",
    "        observation - a 4 tuple with s, d, s_dot, d_dot.\n",
    "\n",
    "        OUTPUT\n",
    "        A label representing the best guess of the classifier.\n",
    "        \"\"\"\n",
    "        return self.gauss_nb.predict([observation])\n",
    "    \n",
    "    \n",
    "class GNB_data(object):\n",
    "    def __init__(self):\n",
    "        self.possible_labels = ['left', 'keep', 'right']\n",
    "        self.gauss_nb = GaussianNB()"
   ]
  },
  {
   "cell_type": "code",
   "execution_count": 78,
   "metadata": {},
   "outputs": [
    {
     "name": "stdout",
     "output_type": "stream",
     "text": [
      "Basic Gaussian Naive Bayes got 84.4 percent correct.\n"
     ]
    }
   ],
   "source": [
    "# Prediction\n",
    "\n",
    "import json\n",
    "\n",
    "def test_accuracy():\n",
    "    gnb = GNB_basic()\n",
    "    with open('train.json', 'rb') as f:\n",
    "        j = json.load(f)\n",
    "    #print( j.keys())\n",
    "    X = j['states']\n",
    "    Y = j['labels']\n",
    "    gnb.train(X, Y)\n",
    "\n",
    "    with open('test.json', 'rb') as f:\n",
    "        j = json.load(f)\n",
    "\n",
    "    X = j['states']\n",
    "    Y = j['labels']\n",
    "    basic_score = 0\n",
    "    for coords, label in zip(X,Y):\n",
    "        predicted = gnb.predict(coords)\n",
    "        if predicted == label:\n",
    "            basic_score += 1\n",
    "    fraction_correct = float(basic_score) / len(X)\n",
    "    print(\"Basic Gaussian Naive Bayes got %.1f \" \\\n",
    "          \"percent correct.\" % (fraction_correct*100))\n",
    "    \n",
    "    \n",
    "    \n",
    "\n",
    "\n",
    "test_accuracy()"
   ]
  },
  {
   "cell_type": "code",
   "execution_count": null,
   "metadata": {
    "collapsed": true
   },
   "outputs": [],
   "source": []
  },
  {
   "cell_type": "code",
   "execution_count": null,
   "metadata": {
    "collapsed": true
   },
   "outputs": [],
   "source": []
  }
 ],
 "metadata": {
  "kernelspec": {
   "display_name": "Python 3",
   "language": "python",
   "name": "python3"
  },
  "language_info": {
   "codemirror_mode": {
    "name": "ipython",
    "version": 3
   },
   "file_extension": ".py",
   "mimetype": "text/x-python",
   "name": "python",
   "nbconvert_exporter": "python",
   "pygments_lexer": "ipython3",
   "version": "3.6.1"
  }
 },
 "nbformat": 4,
 "nbformat_minor": 2
}
